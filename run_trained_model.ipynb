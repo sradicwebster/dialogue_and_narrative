{
 "cells": [
  {
   "cell_type": "code",
   "execution_count": 14,
   "metadata": {},
   "outputs": [],
   "source": [
    "from flair.embeddings import Sentence\n",
    "from flair.models import SequenceTagger\n",
    "import numpy as np"
   ]
  },
  {
   "cell_type": "code",
   "execution_count": 25,
   "metadata": {},
   "outputs": [
    {
     "name": "stdout",
     "output_type": "stream",
     "text": [
      "2020-05-13 13:21:26,025 loading file resources/taggers/key_phrase/final-model.pt\n"
     ]
    }
   ],
   "source": [
    "model = SequenceTagger.load('resources/taggers/key_phrase/final-model.pt')"
   ]
  },
  {
   "cell_type": "code",
   "execution_count": 31,
   "metadata": {},
   "outputs": [
    {
     "name": "stdout",
     "output_type": "stream",
     "text": [
      "2020-05-13 13:27:21,474 loading file resources/taggers/kp_type/final-model.pt\n"
     ]
    }
   ],
   "source": [
    "model = SequenceTagger.load('resources/taggers/kp_type/final-model.pt')"
   ]
  },
  {
   "cell_type": "code",
   "execution_count": 4,
   "metadata": {},
   "outputs": [],
   "source": [
    "with open(\"test.txt\", \"r\") as file:\n",
    "    test_text = file.read().splitlines() "
   ]
  },
  {
   "cell_type": "code",
   "execution_count": 21,
   "metadata": {},
   "outputs": [],
   "source": [
    "test_text = 'In the case of an industrial styrene polymerization this would permit to avoid any specific washing or degassing steps , which are necessary in the radical process to remove residual monomer and low molar mass oligomers.'\n"
   ]
  },
  {
   "cell_type": "code",
   "execution_count": 34,
   "metadata": {},
   "outputs": [],
   "source": [
    "sentence = Sentence(test_text)"
   ]
  },
  {
   "cell_type": "code",
   "execution_count": 35,
   "metadata": {},
   "outputs": [
    {
     "data": {
      "text/plain": [
       "[Sentence: \"In the case of an industrial styrene polymerization this would permit to avoid any specific washing or degassing steps , which are necessary in the radical process to remove residual monomer and low molar mass oligomers.\" - 36 Tokens]"
      ]
     },
     "execution_count": 35,
     "metadata": {},
     "output_type": "execute_result"
    }
   ],
   "source": [
    "model.predict(sentence)"
   ]
  },
  {
   "cell_type": "code",
   "execution_count": 36,
   "metadata": {},
   "outputs": [
    {
     "data": {
      "text/plain": [
       "'In the case of an industrial <P> styrene <P> polymerization <P> this would permit to avoid any specific washing <P> or <P> degassing <P> steps <P> , which are necessary in the radical process to remove residual <M> monomer <M> and low molar mass oligomers.'"
      ]
     },
     "execution_count": 36,
     "metadata": {},
     "output_type": "execute_result"
    }
   ],
   "source": [
    "sentence.to_tagged_string()"
   ]
  },
  {
   "cell_type": "code",
   "execution_count": 9,
   "metadata": {},
   "outputs": [],
   "source": [
    "tagged = sentence.to_tagged_string().split(' ')"
   ]
  },
  {
   "cell_type": "code",
   "execution_count": 10,
   "metadata": {},
   "outputs": [],
   "source": [
    "kp_words = []\n",
    "for i, word in enumerate(tagged):\n",
    "    if word == '<B>':\n",
    "        kp_words.append(tagged[i-1:i+1])\n",
    "    elif word == '<I>':\n",
    "        kp_words.append(tagged[i-1:i+1])"
   ]
  },
  {
   "cell_type": "code",
   "execution_count": 11,
   "metadata": {},
   "outputs": [],
   "source": [
    "index_b = []\n",
    "for i, word in enumerate(kp_words):\n",
    "    if kp_words[i][1] == '<B>':\n",
    "        index_b.append(i)  "
   ]
  },
  {
   "cell_type": "code",
   "execution_count": 12,
   "metadata": {},
   "outputs": [],
   "source": [
    "key_phrase = []\n",
    "for i, num in enumerate(index_b):\n",
    "    if i < len(index_b)-1:\n",
    "        key_phrase.append(' '.join([kp_words[j][0] for j in range(num,index_b[i+1])]))\n",
    "    else:\n",
    "        key_phrase.append(' '.join([kp_words[j][0] for j in range(num,len(kp_words))]))"
   ]
  },
  {
   "cell_type": "code",
   "execution_count": 120,
   "metadata": {},
   "outputs": [],
   "source": [
    "#np.savetxt('test_ks.txt', key_phrase, fmt='%s')"
   ]
  },
  {
   "cell_type": "code",
   "execution_count": 13,
   "metadata": {},
   "outputs": [
    {
     "data": {
      "text/plain": [
       "['perturbative expansion',\n",
       " 'tree-level unitarity bounds',\n",
       " 'loop-improved unitarity']"
      ]
     },
     "execution_count": 13,
     "metadata": {},
     "output_type": "execute_result"
    }
   ],
   "source": [
    "key_phrase"
   ]
  },
  {
   "cell_type": "code",
   "execution_count": null,
   "metadata": {},
   "outputs": [],
   "source": []
  }
 ],
 "metadata": {
  "kernelspec": {
   "display_name": "Python 3",
   "language": "python",
   "name": "python3"
  },
  "language_info": {
   "codemirror_mode": {
    "name": "ipython",
    "version": 3
   },
   "file_extension": ".py",
   "mimetype": "text/x-python",
   "name": "python",
   "nbconvert_exporter": "python",
   "pygments_lexer": "ipython3",
   "version": "3.7.4"
  }
 },
 "nbformat": 4,
 "nbformat_minor": 2
}
