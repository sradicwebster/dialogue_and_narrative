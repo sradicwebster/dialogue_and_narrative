{
 "cells": [
  {
   "cell_type": "code",
   "execution_count": 1,
   "metadata": {},
   "outputs": [],
   "source": [
    "import pickle\n",
    "import nltk\n",
    "from nltk.tag.hmm import HiddenMarkovModelTagger as hmm_tag\n",
    "from collections import Counter\n",
    "from nltk.metrics import ConfusionMatrix\n",
    "import numpy as np"
   ]
  },
  {
   "cell_type": "code",
   "execution_count": 2,
   "metadata": {},
   "outputs": [],
   "source": [
    "with open(\"corpus_data/pickled/dev.pickle\", \"rb\") as file:\n",
    "    dev = pickle.load(file)"
   ]
  },
  {
   "cell_type": "code",
   "execution_count": 3,
   "metadata": {},
   "outputs": [],
   "source": [
    "with open(\"corpus_data/pickled/test.pickle\", \"rb\") as file:\n",
    "    test = pickle.load(file)"
   ]
  },
  {
   "cell_type": "code",
   "execution_count": 4,
   "metadata": {},
   "outputs": [],
   "source": [
    "with open(\"corpus_data/pickled/train.pickle\", \"rb\") as file:\n",
    "    train = pickle.load(file)"
   ]
  },
  {
   "cell_type": "code",
   "execution_count": 5,
   "metadata": {},
   "outputs": [],
   "source": [
    "train_class = [(train[i][0], train[i][2]) for i in range(len(train))]\n",
    "dev_class = [(dev[i][0], dev[i][2]) for i in range(len(dev))]\n",
    "test_class = [(test[i][0], test[i][2]) for i in range(len(test))]"
   ]
  },
  {
   "cell_type": "code",
   "execution_count": 6,
   "metadata": {},
   "outputs": [],
   "source": [
    "index = []\n",
    "for i in range(len(train_class)-1):\n",
    "    if train_class[i][0][-1] == '.' and train_class[i+1][0][0].isupper():\n",
    "        index.append(i+1)\n",
    "\n",
    "train_sents = [train_class[:index[0]]]\n",
    "for i in range(len(index)-1):\n",
    "    sent = train_class[index[i]:index[i+1]]\n",
    "    train_sents.append(sent)"
   ]
  },
  {
   "cell_type": "code",
   "execution_count": 7,
   "metadata": {},
   "outputs": [],
   "source": [
    "index = []\n",
    "for i in range(len(test_class)-1):\n",
    "    if test_class[i][0][-1] == '.' and test_class[i+1][0][0].isupper():\n",
    "        index.append(i+1)\n",
    "\n",
    "test_sents = [test_class[:index[0]]]\n",
    "for i in range(len(index)-1):\n",
    "    sent = test_class[index[i]:index[i+1]]\n",
    "    test_sents.append(sent)"
   ]
  },
  {
   "cell_type": "code",
   "execution_count": 8,
   "metadata": {},
   "outputs": [],
   "source": [
    "tagger = hmm_tag.train(train_sents)"
   ]
  },
  {
   "cell_type": "code",
   "execution_count": 16,
   "metadata": {},
   "outputs": [],
   "source": [
    "words = []\n",
    "tags = []\n",
    "for sent in range(len(test_sents)):\n",
    "    for word in range(len(test_sents[sent])):\n",
    "        words.append(test_sents[sent][word][0])\n",
    "        tags.append(test_sents[sent][word][1])"
   ]
  },
  {
   "cell_type": "code",
   "execution_count": 17,
   "metadata": {},
   "outputs": [],
   "source": [
    "tagged_words = tagger.tag(words)\n",
    "ref = [tagged_words[i][1] for i in range(len(tagged_words))]"
   ]
  },
  {
   "cell_type": "code",
   "execution_count": 18,
   "metadata": {},
   "outputs": [
    {
     "data": {
      "text/plain": [
       "FreqDist({'O': 16693, 'P': 2025, 'M': 1564, 'T': 828})"
      ]
     },
     "execution_count": 18,
     "metadata": {},
     "output_type": "execute_result"
    }
   ],
   "source": [
    "tagsFDist = nltk.FreqDist(tags)\n",
    "tagsFDist"
   ]
  },
  {
   "cell_type": "code",
   "execution_count": 19,
   "metadata": {},
   "outputs": [],
   "source": [
    "#tags = len(tagged_words)*['O']"
   ]
  },
  {
   "cell_type": "code",
   "execution_count": 20,
   "metadata": {},
   "outputs": [
    {
     "name": "stdout",
     "output_type": "stream",
     "text": [
      "  |     M     O     P     T |\n",
      "--+-------------------------+\n",
      "M |  <578>  550   239    29 |\n",
      "O |   503<13634>  699   391 |\n",
      "P |   162   572  <546>  105 |\n",
      "T |   321  1937   541  <303>|\n",
      "--+-------------------------+\n",
      "(row = reference; col = test)\n",
      "\n"
     ]
    }
   ],
   "source": [
    "cm = ConfusionMatrix(ref, tags)\n",
    "print(cm)"
   ]
  },
  {
   "cell_type": "code",
   "execution_count": 21,
   "metadata": {},
   "outputs": [
    {
     "name": "stdout",
     "output_type": "stream",
     "text": [
      "M 0.3905405405405405\n",
      "O 0.8542606516290727\n",
      "P 0.3202346041055718\n",
      "T 0.15419847328244274\n"
     ]
    }
   ],
   "source": [
    "labels = set('M O P T'.split())\n",
    "\n",
    "true_positives = Counter()\n",
    "false_negatives = Counter()\n",
    "false_positives = Counter()\n",
    "\n",
    "for i in labels:\n",
    "    for j in labels:\n",
    "        if i == j:\n",
    "            true_positives[i] += cm[i,j]\n",
    "        else:\n",
    "            false_negatives[i] += cm[i,j]\n",
    "            false_positives[j] += cm[i,j]\n",
    "\n",
    "f1_ind = []\n",
    "for i in sorted(labels):\n",
    "    if true_positives[i] == 0:\n",
    "        fscore = 0\n",
    "    else:\n",
    "        precision = true_positives[i] / float(true_positives[i]+false_positives[i])\n",
    "        recall = true_positives[i] / float(true_positives[i]+false_negatives[i])\n",
    "        fscore = 2 * (precision * recall) / float(precision + recall)\n",
    "    f1_ind.append(fscore)\n",
    "    print(i, fscore)"
   ]
  },
  {
   "cell_type": "code",
   "execution_count": 24,
   "metadata": {},
   "outputs": [
    {
     "data": {
      "text/plain": [
       "0.28832453930951835"
      ]
     },
     "execution_count": 24,
     "metadata": {},
     "output_type": "execute_result"
    }
   ],
   "source": [
    "f1_mean = (f1_ind[0]+f1_ind[2]+f1_ind[3])/3\n",
    "f1_mean"
   ]
  },
  {
   "cell_type": "code",
   "execution_count": null,
   "metadata": {},
   "outputs": [],
   "source": []
  },
  {
   "cell_type": "code",
   "execution_count": null,
   "metadata": {},
   "outputs": [],
   "source": []
  },
  {
   "cell_type": "code",
   "execution_count": null,
   "metadata": {},
   "outputs": [],
   "source": []
  }
 ],
 "metadata": {
  "kernelspec": {
   "display_name": "Python 3",
   "language": "python",
   "name": "python3"
  },
  "language_info": {
   "codemirror_mode": {
    "name": "ipython",
    "version": 3
   },
   "file_extension": ".py",
   "mimetype": "text/x-python",
   "name": "python",
   "nbconvert_exporter": "python",
   "pygments_lexer": "ipython3",
   "version": "3.7.4"
  }
 },
 "nbformat": 4,
 "nbformat_minor": 2
}
