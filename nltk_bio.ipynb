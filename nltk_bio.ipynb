{
 "cells": [
  {
   "cell_type": "code",
   "execution_count": 40,
   "metadata": {},
   "outputs": [],
   "source": [
    "import pickle\n",
    "import dill\n",
    "from nltk.tag.hmm import HiddenMarkovModelTagger as hmm_tag\n",
    "from collections import Counter\n",
    "from nltk.metrics import ConfusionMatrix\n",
    "from nltk.tokenize import TreebankWordTokenizer as twt\n",
    "import numpy as np\n",
    "import nltk"
   ]
  },
  {
   "cell_type": "code",
   "execution_count": 3,
   "metadata": {},
   "outputs": [],
   "source": [
    "with open(\"pickled/dev.pickle\", \"rb\") as file:\n",
    "    dev = pickle.load(file)"
   ]
  },
  {
   "cell_type": "code",
   "execution_count": 4,
   "metadata": {},
   "outputs": [],
   "source": [
    "with open(\"pickled/test.pickle\", \"rb\") as file:\n",
    "    test = pickle.load(file)"
   ]
  },
  {
   "cell_type": "code",
   "execution_count": 5,
   "metadata": {},
   "outputs": [],
   "source": [
    "with open(\"pickled/train.pickle\", \"rb\") as file:\n",
    "    train = pickle.load(file)"
   ]
  },
  {
   "cell_type": "code",
   "execution_count": 6,
   "metadata": {},
   "outputs": [],
   "source": [
    "train_bio = [train[i][:2] for i in range(len(train))]\n",
    "dev_bio = [dev[i][:2] for i in range(len(dev))]\n",
    "test_bio = [test[i][:2] for i in range(len(test))]"
   ]
  },
  {
   "cell_type": "code",
   "execution_count": 7,
   "metadata": {},
   "outputs": [],
   "source": [
    "index = []\n",
    "for i in range(len(train_bio)-1):\n",
    "    if train_bio[i][0][-1] == '.' and train_bio[i+1][0][0].isupper():\n",
    "        index.append(i+1)\n",
    "\n",
    "train_sents = [train_bio[:index[0]]]\n",
    "for i in range(len(index)-1):\n",
    "    sent = train_bio[index[i]:index[i+1]]\n",
    "    train_sents.append(sent)"
   ]
  },
  {
   "cell_type": "code",
   "execution_count": 8,
   "metadata": {},
   "outputs": [],
   "source": [
    "index = []\n",
    "for i in range(len(test_bio)-1):\n",
    "    if test_bio[i][0][-1] == '.' and test_bio[i+1][0][0].isupper():\n",
    "        index.append(i+1)\n",
    "\n",
    "test_sents = [test_bio[:index[0]]]\n",
    "for i in range(len(index)-1):\n",
    "    sent = test_bio[index[i]:index[i+1]]\n",
    "    test_sents.append(sent)"
   ]
  },
  {
   "cell_type": "code",
   "execution_count": 9,
   "metadata": {},
   "outputs": [
    {
     "name": "stdout",
     "output_type": "stream",
     "text": [
      "accuracy over 21110 tokens: 76.15\n"
     ]
    }
   ],
   "source": [
    "tagger = hmm_tag.train(train_sents, test_sequence=test_sents)"
   ]
  },
  {
   "cell_type": "code",
   "execution_count": 42,
   "metadata": {},
   "outputs": [],
   "source": [
    "with open('hmm_tagger.dill', 'wb') as f:\n",
    "    dill.dump(tagger, f)"
   ]
  },
  {
   "cell_type": "code",
   "execution_count": 35,
   "metadata": {},
   "outputs": [],
   "source": [
    "words = []\n",
    "tags = []\n",
    "for sent in range(len(test_sents)):\n",
    "    for word in range(len(test_sents[sent])):\n",
    "        words.append(test_sents[sent][word][0])\n",
    "        tags.append(test_sents[sent][word][1])"
   ]
  },
  {
   "cell_type": "code",
   "execution_count": 10,
   "metadata": {},
   "outputs": [
    {
     "data": {
      "text/plain": [
       "FreqDist({'O': 16693, 'I': 2522, 'B': 1895})"
      ]
     },
     "execution_count": 10,
     "metadata": {},
     "output_type": "execute_result"
    }
   ],
   "source": [
    "tagsFDist = nltk.FreqDist(tags)\n",
    "tagsFDist"
   ]
  },
  {
   "cell_type": "code",
   "execution_count": 24,
   "metadata": {},
   "outputs": [],
   "source": [
    "tagged_words = tagger.tag(words)\n",
    "ref = [tagged_words[i][1] for i in range(len(tagged_words))]"
   ]
  },
  {
   "cell_type": "code",
   "execution_count": 12,
   "metadata": {},
   "outputs": [
    {
     "name": "stdout",
     "output_type": "stream",
     "text": [
      "  |     B     I     O |\n",
      "--+-------------------+\n",
      "B |  <750>  171   740 |\n",
      "I |   496 <1552> 2206 |\n",
      "O |   649   799<13747>|\n",
      "--+-------------------+\n",
      "(row = reference; col = test)\n",
      "\n"
     ]
    }
   ],
   "source": [
    "#tags = len(tagged_words)*['O']\n",
    "cm = ConfusionMatrix(ref, tags)\n",
    "print(cm)"
   ]
  },
  {
   "cell_type": "code",
   "execution_count": 13,
   "metadata": {},
   "outputs": [
    {
     "name": "stdout",
     "output_type": "stream",
     "text": [
      "B 0.42182227221597296\n",
      "I 0.4580873671782763\n",
      "O 0.8622052182639237\n"
     ]
    }
   ],
   "source": [
    "labels = set('B I O'.split())\n",
    "\n",
    "true_positives = Counter()\n",
    "false_negatives = Counter()\n",
    "false_positives = Counter()\n",
    "\n",
    "for i in labels:\n",
    "    for j in labels:\n",
    "        if i == j:\n",
    "            true_positives[i] += cm[i,j]\n",
    "        else:\n",
    "            false_negatives[i] += cm[i,j]\n",
    "            false_positives[j] += cm[i,j]\n",
    "\n",
    "f1_ind = []\n",
    "for i in sorted(labels):\n",
    "    if true_positives[i] == 0:\n",
    "        fscore = 0\n",
    "    else:\n",
    "        precision = true_positives[i] / float(true_positives[i]+false_positives[i])\n",
    "        recall = true_positives[i] / float(true_positives[i]+false_negatives[i])\n",
    "        fscore = 2 * (precision * recall) / float(precision + recall)\n",
    "    f1_ind.append(fscore)\n",
    "    print(i, fscore)"
   ]
  },
  {
   "cell_type": "code",
   "execution_count": 17,
   "metadata": {},
   "outputs": [
    {
     "data": {
      "text/plain": [
       "0.4425287629325066"
      ]
     },
     "execution_count": 17,
     "metadata": {},
     "output_type": "execute_result"
    }
   ],
   "source": [
    "f1_mean = (1895*f1_ind[0]+2522*f1_ind[1])/(2522+1895)\n",
    "f1_mean"
   ]
  },
  {
   "cell_type": "code",
   "execution_count": 18,
   "metadata": {},
   "outputs": [],
   "source": [
    "#'I': 2522, 'B': 1895"
   ]
  },
  {
   "cell_type": "code",
   "execution_count": null,
   "metadata": {},
   "outputs": [],
   "source": []
  },
  {
   "cell_type": "code",
   "execution_count": null,
   "metadata": {},
   "outputs": [],
   "source": []
  }
 ],
 "metadata": {
  "kernelspec": {
   "display_name": "Python 3",
   "language": "python",
   "name": "python3"
  },
  "language_info": {
   "codemirror_mode": {
    "name": "ipython",
    "version": 3
   },
   "file_extension": ".py",
   "mimetype": "text/x-python",
   "name": "python",
   "nbconvert_exporter": "python",
   "pygments_lexer": "ipython3",
   "version": "3.7.4"
  }
 },
 "nbformat": 4,
 "nbformat_minor": 2
}
