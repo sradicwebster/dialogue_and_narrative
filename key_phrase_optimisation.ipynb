{
 "cells": [
  {
   "cell_type": "code",
   "execution_count": null,
   "metadata": {},
   "outputs": [],
   "source": [
    "from flair.data import Corpus\n",
    "from flair.datasets import ColumnCorpus\n",
    "from flair.embeddings import TokenEmbeddings, WordEmbeddings, StackedEmbeddings, Sentence, FlairEmbeddings\n",
    "from typing import List\n",
    "from flair.models import SequenceTagger\n",
    "from flair.trainers import ModelTrainer\n",
    "from flair.visual.training_curves import Plotter\n",
    "from hyperopt import hp\n",
    "from flair.hyperparameter.param_selection import SearchSpace, Parameter, SequenceTaggerParamSelector, OptimizationValue\n",
    "from flair.training_utils import EvaluationMetric"
   ]
  },
  {
   "cell_type": "code",
   "execution_count": null,
   "metadata": {},
   "outputs": [],
   "source": [
    "# 1. get the corpus\n",
    "\n",
    "# define columns\n",
    "columns = {0: 'text', 1: 'key_phrase', 2: 'kp_type'}\n",
    "\n",
    "# this is the folder in which train, test and dev files reside\n",
    "data_folder = 'corpus_data/'\n",
    "\n",
    "# init a corpus using column format, data folder and the names of the train, dev and test files\n",
    "corpus: Corpus = ColumnCorpus(data_folder, columns)"
   ]
  },
  {
   "cell_type": "code",
   "execution_count": null,
   "metadata": {},
   "outputs": [],
   "source": [
    "print(len(corpus.train))\n",
    "print(len(corpus.dev))\n",
    "print(len(corpus.test))"
   ]
  },
  {
   "cell_type": "code",
   "execution_count": null,
   "metadata": {},
   "outputs": [],
   "source": [
    "# 2. what tag do we want to predict?\n",
    "tag_type = 'key_phrase'"
   ]
  },
  {
   "cell_type": "code",
   "execution_count": null,
   "metadata": {},
   "outputs": [],
   "source": [
    "# . initialize embeddings\n",
    "embedding_types: List[TokenEmbeddings] = [\n",
    "\n",
    "    WordEmbeddings('glove'),\n",
    "\n",
    "    # comment in this line to use character embeddings\n",
    "    # CharacterEmbeddings(),\n",
    "\n",
    "    # comment in these lines to use flair embeddings\n",
    "    FlairEmbeddings('news-forward'),\n",
    "    FlairEmbeddings('news-backward'),\n",
    "]\n",
    "\n",
    "embeddings: StackedEmbeddings = StackedEmbeddings(embeddings=embedding_types)"
   ]
  },
  {
   "cell_type": "code",
   "execution_count": null,
   "metadata": {},
   "outputs": [],
   "source": [
    "# 3. define your search space\n",
    "search_space = SearchSpace()\n",
    "search_space.add(Parameter.EMBEDDINGS, hp.choice, options=[ embeddings\n",
    "     #WordEmbeddings('glove'), FlairEmbeddings('news-forward'), FlairEmbeddings('news-backward')]\n",
    "])\n",
    "search_space.add(Parameter.HIDDEN_SIZE, hp.choice, options=[256])\n",
    "search_space.add(Parameter.DROPOUT, hp.choice, options=[0.08, 0.12])\n",
    "search_space.add(Parameter.LEARNING_RATE, hp.choice, options=[0.17])\n",
    "search_space.add(Parameter.MINI_BATCH_SIZE, hp.choice, options=[16])"
   ]
  },
  {
   "cell_type": "code",
   "execution_count": null,
   "metadata": {},
   "outputs": [],
   "source": [
    "# 4. create the parameter selector\n",
    "param_selector = SequenceTaggerParamSelector(\n",
    "    corpus=corpus, \n",
    "    tag_type=tag_type, \n",
    "    base_path='resources/opt_results2', \n",
    "    max_epochs=60, \n",
    "    evaluation_metric=EvaluationMetric.MICRO_F1_SCORE,\n",
    "    training_runs=1,\n",
    "    optimization_value=OptimizationValue.DEV_SCORE\n",
    ")"
   ]
  },
  {
   "cell_type": "code",
   "execution_count": null,
   "metadata": {},
   "outputs": [],
   "source": [
    "# 5 start the optimization\n",
    "param_selector.optimize(search_space, max_evals=2)"
   ]
  },
  {
   "cell_type": "code",
   "execution_count": null,
   "metadata": {},
   "outputs": [],
   "source": []
  },
  {
   "cell_type": "code",
   "execution_count": null,
   "metadata": {},
   "outputs": [],
   "source": []
  },
  {
   "cell_type": "code",
   "execution_count": null,
   "metadata": {},
   "outputs": [],
   "source": []
  }
 ],
 "metadata": {
  "kernelspec": {
   "display_name": "Python 3",
   "language": "python",
   "name": "python3"
  },
  "language_info": {
   "codemirror_mode": {
    "name": "ipython",
    "version": 3
   },
   "file_extension": ".py",
   "mimetype": "text/x-python",
   "name": "python",
   "nbconvert_exporter": "python",
   "pygments_lexer": "ipython3",
   "version": "3.7.4"
  }
 },
 "nbformat": 4,
 "nbformat_minor": 2
}
